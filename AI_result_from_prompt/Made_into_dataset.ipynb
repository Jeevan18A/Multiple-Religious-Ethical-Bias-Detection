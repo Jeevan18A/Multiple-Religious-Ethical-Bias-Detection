{
 "cells": [
  {
   "cell_type": "code",
   "execution_count": 1,
   "id": "ad895c64-77ef-4125-9b1d-a17d598ffe97",
   "metadata": {},
   "outputs": [
    {
     "name": "stdout",
     "output_type": "stream",
     "text": [
      "Dataset saved as 'bias_analysis_dataset.csv'\n"
     ]
    }
   ],
   "source": [
    "import pandas as pd\n",
    "import json\n",
    "\n",
    "# Step 1: Load bias reports from JSON files\n",
    "def load_bias_report(filename):\n",
    "    with open(filename, \"r\") as file:\n",
    "        return json.load(file)\n",
    "\n",
    "# Load reports from different AI models\n",
    "\n",
    "gemini_report = load_bias_report(\"bias_report_gemini.json\")\n",
    "mistral_report = load_bias_report(\"bias_report_mistral.json\")\n",
    "\n",
    "# Step 2: Combine data into a structured dataset\n",
    "data = []\n",
    "for prompt in gemini_report[\"responses\"].keys():\n",
    "    data.append({\n",
    "        \"Prompt\": prompt,\n",
    "        \"Gemini Response\": gemini_report[\"responses\"].get(prompt, \"No response\"),\n",
    "        \"Gemini Bias\": gemini_report[\"bias_analysis\"].get(prompt, \"No analysis\"),\n",
    "        \"Mistral Response\": mistral_report[\"responses\"].get(prompt, \"No response\"),\n",
    "        \"Mistral Bias\": mistral_report[\"bias_analysis\"].get(prompt, \"No analysis\"),\n",
    "    })\n",
    "\n",
    "# Step 3: Create a DataFrame\n",
    "df = pd.DataFrame(data)\n",
    "\n",
    "# Step 4: Save dataset to a CSV file\n",
    "df.to_csv(\"bias_analysis_dataset.csv\", index=False)\n",
    "\n",
    "print(\"Dataset saved as 'bias_analysis_dataset.csv'\")\n"
   ]
  },
  {
   "cell_type": "code",
   "execution_count": null,
   "id": "ce70e903-576a-4d1c-965f-2fcac92a4c5c",
   "metadata": {},
   "outputs": [],
   "source": []
  }
 ],
 "metadata": {
  "kernelspec": {
   "display_name": "Python 3 (ipykernel)",
   "language": "python",
   "name": "python3"
  },
  "language_info": {
   "codemirror_mode": {
    "name": "ipython",
    "version": 3
   },
   "file_extension": ".py",
   "mimetype": "text/x-python",
   "name": "python",
   "nbconvert_exporter": "python",
   "pygments_lexer": "ipython3",
   "version": "3.11.5"
  }
 },
 "nbformat": 4,
 "nbformat_minor": 5
}
